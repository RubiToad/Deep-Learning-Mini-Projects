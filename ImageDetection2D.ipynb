{
  "nbformat": 4,
  "nbformat_minor": 0,
  "metadata": {
    "colab": {
      "provenance": [],
      "toc_visible": true
    },
    "kernelspec": {
      "name": "python3",
      "display_name": "Python 3"
    },
    "language_info": {
      "name": "python"
    }
  },
  "cells": [
    {
      "cell_type": "markdown",
      "source": [
        "# **2D Image Detection using the KITTI Library**"
      ],
      "metadata": {
        "id": "jNlcUhGBXSm4"
      }
    },
    {
      "cell_type": "markdown",
      "source": [
        "Library Imports"
      ],
      "metadata": {
        "id": "IKreW3AIXO5d"
      }
    },
    {
      "cell_type": "code",
      "execution_count": 1,
      "metadata": {
        "id": "8JAz9TgeW3Qq"
      },
      "outputs": [],
      "source": [
        "import keras\n",
        "import matplotlib.pyplot as plt\n",
        "import numpy as np\n",
        "import pandas as pd"
      ]
    },
    {
      "cell_type": "markdown",
      "source": [
        "Dataset Import"
      ],
      "metadata": {
        "id": "OreyzGgAXhY9"
      }
    },
    {
      "cell_type": "code",
      "source": [],
      "metadata": {
        "id": "co-t_JjmXkMv"
      },
      "execution_count": null,
      "outputs": []
    },
    {
      "cell_type": "markdown",
      "source": [
        "# Data Preprocessing"
      ],
      "metadata": {
        "id": "cluc2w5XXcN2"
      }
    },
    {
      "cell_type": "code",
      "source": [],
      "metadata": {
        "id": "oMRseYqTXdxF"
      },
      "execution_count": null,
      "outputs": []
    }
  ]
}